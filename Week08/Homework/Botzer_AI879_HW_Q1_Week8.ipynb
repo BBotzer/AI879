{
 "cells": [
  {
   "cell_type": "code",
   "execution_count": 1,
   "metadata": {},
   "outputs": [],
   "source": [
    "# Author: Brandon Botzer\n",
    "# Date: 2/03/2024\n",
    "# Class: Penn State - AI 879"
   ]
  },
  {
   "cell_type": "markdown",
   "metadata": {},
   "source": [
    "Perform a watershed segmentation on the L06 sunflower.png Download L06 sunflower.pngto detect the sunflowers.\n",
    "\n",
    "You may also use an image of your choice with the proper citation.\n",
    "\n",
    "Please consult “Marker-Controlled Watershed Segmentation” page at https://www.mathworks.com/help/images/marker-controlled-watershed-segmentation.htmlLinks to an external site.\n",
    "\n",
    "Please explain how watershed works and justify the results."
   ]
  },
  {
   "cell_type": "code",
   "execution_count": null,
   "metadata": {},
   "outputs": [],
   "source": [
    "# Imports for functions\n",
    "\n",
    "# The scikit-image package provides a wide variety of filter applications\n",
    "#  which reduce the need to write out the corr / conv matricies\n",
    "\n",
    "from PIL import Image\n",
    "\n",
    "import skimage as ski\n",
    "import numpy as np\n",
    "import matplotlib.pyplot as plt\n",
    "import cv2 as cv\n",
    "\n",
    "# Fast sorting and coputations\n",
    "import scipy as sci\n",
    "from scipy.spatial.distance import cdist\n",
    "# Showing the results of scipy computations\n",
    "import pandas as pd\n",
    "\n",
    "cv.__version__, ski.__version__"
   ]
  }
 ],
 "metadata": {
  "kernelspec": {
   "display_name": "ai879_basic",
   "language": "python",
   "name": "python3"
  },
  "language_info": {
   "codemirror_mode": {
    "name": "ipython",
    "version": 3
   },
   "file_extension": ".py",
   "mimetype": "text/x-python",
   "name": "python",
   "nbconvert_exporter": "python",
   "pygments_lexer": "ipython3",
   "version": "3.12.1"
  }
 },
 "nbformat": 4,
 "nbformat_minor": 2
}
