{
 "cells": [
  {
   "cell_type": "code",
   "execution_count": null,
   "metadata": {},
   "outputs": [],
   "source": []
  },
  {
   "cell_type": "code",
   "execution_count": null,
   "metadata": {},
   "outputs": [],
   "source": []
  },
  {
   "cell_type": "code",
   "execution_count": null,
   "metadata": {},
   "outputs": [],
   "source": []
  },
  {
   "cell_type": "code",
   "execution_count": null,
   "metadata": {},
   "outputs": [],
   "source": []
  },
  {
   "cell_type": "code",
   "execution_count": null,
   "metadata": {},
   "outputs": [],
   "source": [
    "# Skimage also has the Canny edge detector which tends to work well; I've always personally liked the Canny method\n",
    "# Canny, J., A Computational Approach To Edge Detection, IEEE Trans. Pattern Analysis and Machine Intelligence, 8:679-714, 1986 DOI:10.1109/TPAMI.1986.4767851\n",
    "\n",
    "#   Canny works by smoothing the image with a Gaussian\n",
    "#   Applies the Sobel operators to get gradients\n",
    "#   It thins edges to 1 pixel wide curves (this is done cleverly to find horizontal, vert, diag, and anti-diag edges)\n",
    "#   Hysteresis thresholding is then done\n",
    "\n",
    "gv_canny = ski.feature.canny(greatvalley)\n",
    "plt.imshow(gv_canny, cmap='gray')"
   ]
  },
  {
   "cell_type": "code",
   "execution_count": null,
   "metadata": {},
   "outputs": [],
   "source": []
  }
 ],
 "metadata": {
  "language_info": {
   "name": "python"
  }
 },
 "nbformat": 4,
 "nbformat_minor": 2
}
