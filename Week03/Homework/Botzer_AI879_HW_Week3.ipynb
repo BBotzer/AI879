{
 "cells": [
  {
   "cell_type": "code",
   "execution_count": null,
   "metadata": {},
   "outputs": [],
   "source": [
    "# Author: Brandon Botzer\n",
    "# Date: 1/11/2024\n",
    "# Class: Penn State - AI 879\n",
    "\n",
    "# Modify the dice throw experiment to change it to coin flips\n",
    "# Run five experiments, each of 15,000 trials and show results"
   ]
  },
  {
   "cell_type": "code",
   "execution_count": 1,
   "metadata": {},
   "outputs": [],
   "source": [
    "# Import numpy to act as the random number generator\n",
    "# Ref: https://numpy.org/doc/stable/reference/random/generator.html\n",
    "\n",
    "import numpy as np"
   ]
  },
  {
   "cell_type": "code",
   "execution_count": 2,
   "metadata": {},
   "outputs": [],
   "source": [
    "# Create the coin as a random number generator\n",
    "coin = np.random.default_rng(seed=None)"
   ]
  },
  {
   "cell_type": "code",
   "execution_count": 3,
   "metadata": {},
   "outputs": [],
   "source": [
    "# Run the experiments\n",
    "\n",
    "# Number of flips (trials)\n",
    "n_flips = 15000\n",
    "# Number of experiments\n",
    "n_exps = 5\n",
    "# List to hold the experiments\n",
    "experiments = []\n",
    "\n",
    "# Loop 5 times for the five experiments\n",
    "for i in range(n_exps):\n",
    "    # Use the generator to flip the 'coin' (0=heads, 1=tails, and size=number of flips) for the generator\n",
    "    # low is inclusive; high is inclusive due to endpoint=True\n",
    "    sides = coin.integers(low=0, high=1, size=n_flips, endpoint=True)\n",
    "    # Store the experiment\n",
    "    experiments.append(sides)"
   ]
  },
  {
   "cell_type": "code",
   "execution_count": 4,
   "metadata": {},
   "outputs": [
    {
     "name": "stdout",
     "output_type": "stream",
     "text": [
      "Trial 1: Heads: 7438 Tails: 7562 \t Probability of Tails: 0.50413333\n",
      "Trial 2: Heads: 7548 Tails: 7452 \t Probability of Tails: 0.4968\n",
      "Trial 3: Heads: 7580 Tails: 7420 \t Probability of Tails: 0.49466667\n",
      "Trial 4: Heads: 7520 Tails: 7480 \t Probability of Tails: 0.49866667\n",
      "Trial 5: Heads: 7438 Tails: 7562 \t Probability of Tails: 0.50413333\n"
     ]
    }
   ],
   "source": [
    "# Show the experiment outcomes as both total heads and tails, and as a percentage\n",
    "for i in range(n_exps):\n",
    "    n_tails = sum(experiments[i])\n",
    "    n_heads = n_flips - n_tails\n",
    "    print(f'Trial {i+1}: Heads: {n_heads} Tails: {n_tails} \\t Probability of Tails: {n_tails/n_flips:.8}')"
   ]
  },
  {
   "cell_type": "code",
   "execution_count": 5,
   "metadata": {},
   "outputs": [
    {
     "name": "stdout",
     "output_type": "stream",
     "text": [
      "Probability of Tails: 0.49968\n"
     ]
    }
   ],
   "source": [
    "# Find the total probability using all runs in the experiment\n",
    "\n",
    "# The sum(sum()) adds the columns of the arrays together and then the combined array\n",
    "# Since a number of 0 is heads, any adding of 1 counts as another Tails flip.\n",
    "# This sum(sum()) then can be divided by the total number of flips to get the percentage\n",
    "\n",
    "tot_tails_prob = sum(sum(experiments))/(n_flips*n_exps)\n",
    "\n",
    "print(f'Probability of Tails: {tot_tails_prob:.8}')"
   ]
  },
  {
   "cell_type": "code",
   "execution_count": 6,
   "metadata": {},
   "outputs": [
    {
     "name": "stdout",
     "output_type": "stream",
     "text": [
      "Tails has finally failed!\n"
     ]
    }
   ],
   "source": [
    "if(tot_tails_prob > 0.5):\n",
    "    print('Tails never fails!  Yay confirmation bias!')\n",
    "else:\n",
    "    print('Tails has finally failed!')"
   ]
  }
 ],
 "metadata": {
  "kernelspec": {
   "display_name": "ai879_basic",
   "language": "python",
   "name": "python3"
  },
  "language_info": {
   "codemirror_mode": {
    "name": "ipython",
    "version": 3
   },
   "file_extension": ".py",
   "mimetype": "text/x-python",
   "name": "python",
   "nbconvert_exporter": "python",
   "pygments_lexer": "ipython3",
   "version": "3.12.1"
  }
 },
 "nbformat": 4,
 "nbformat_minor": 2
}
