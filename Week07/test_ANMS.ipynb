{
 "cells": [
  {
   "cell_type": "code",
   "execution_count": null,
   "metadata": {},
   "outputs": [],
   "source": [
    "import cv2\n",
    "import numpy as np\n",
    "\n",
    "def anms_keypoints(image, keypoints, max_keypoints):\n",
    "    # Convert the image to grayscale if it's a color image\n",
    "    if len(image.shape) == 3:\n",
    "        gray = cv2.cvtColor(image, cv2.COLOR_BGR2GRAY)\n",
    "    else:\n",
    "        gray = image\n",
    "\n",
    "    # Compute the response values for each keypoint\n",
    "    responses = np.array([gray[y, x] for x, y in keypoints])\n",
    "\n",
    "    # Initialize the suppression radius for each keypoint\n",
    "    suppression_radius = np.full_like(responses, np.inf)\n",
    "\n",
    "    # Iterate through each keypoint and find its suppression radius\n",
    "    for i in range(len(keypoints)):\n",
    "        for j in range(len(keypoints)):\n",
    "            if responses[j] > responses[i]:\n",
    "                # Compute the Euclidean distance between keypoints i and j\n",
    "                distance = np.sqrt((keypoints[j][0] - keypoints[i][0])**2 + (keypoints[j][1] - keypoints[i][1])**2)\n",
    "\n",
    "                # Update the suppression radius if the distance is smaller\n",
    "                suppression_radius[i] = min(suppression_radius[i], distance)\n",
    "\n",
    "    # Sort keypoints based on responses in descending order\n",
    "    sorted_indices = np.argsort(responses)[::-1]\n",
    "\n",
    "    # Initialize the final selected keypoints\n",
    "    selected_keypoints = []\n",
    "\n",
    "    # Keep adding keypoints to the final list until the desired number is reached\n",
    "    for i in range(min(max_keypoints, len(keypoints))):\n",
    "        # Get the current keypoint\n",
    "        current_keypoint = keypoints[sorted_indices[i]]\n",
    "\n",
    "        # Check if the current keypoint is not too close to any previously selected keypoints\n",
    "        if all(np.sqrt((current_keypoint[0] - kp[0])**2 + (current_keypoint[1] - kp[1])**2) > suppression_radius[sorted_indices[i]] for kp in selected_keypoints):\n",
    "            selected_keypoints.append(current_keypoint)\n",
    "\n",
    "    return np.array(selected_keypoints)\n",
    "\n",
    "# Example usage\n",
    "image = cv2.imread(\"your_image.jpg\")\n",
    "gray_image = cv2.cvtColor(image, cv2.COLOR_BGR2GRAY)\n",
    "\n",
    "# Use any keypoint detector (e.g., FAST) to obtain initial keypoints\n",
    "keypoints = cv2.FastFeatureDetector_create().detect(gray_image)\n",
    "\n",
    "# Apply ANMS to filter the keypoints\n",
    "max_keypoints = 500\n",
    "selected_keypoints = anms_keypoints(gray_image, [(int(kp.pt[0]), int(kp.pt[1])) for kp in keypoints], max_keypoints)\n",
    "\n",
    "# Draw the selected keypoints on the image\n",
    "output_image = image.copy()\n",
    "for kp in selected_keypoints:\n",
    "    cv2.circle(output_image, tuple(kp), 5, (0, 255, 0), -1)\n",
    "\n",
    "cv2.imshow(\"ANMS Keypoints\", output_image)\n",
    "cv2.waitKey(0)\n",
    "cv2.destroyAllWindows()"
   ]
  },
  {
   "cell_type": "code",
   "execution_count": null,
   "metadata": {},
   "outputs": [
    {
     "data": {
      "text/plain": [
       "904435.0750059398"
      ]
     },
     "metadata": {},
     "output_type": "display_data"
    }
   ],
   "source": []
  }
 ],
 "metadata": {
  "language_info": {
   "name": "python"
  }
 },
 "nbformat": 4,
 "nbformat_minor": 2
}
